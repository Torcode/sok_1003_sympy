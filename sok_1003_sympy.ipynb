{
 "cells": [
  {
   "cell_type": "markdown",
   "id": "be643bd4-60cc-4e57-ab44-c955d6e7916a",
   "metadata": {},
   "source": [
    "## Arbeidskrav 29.10.21 - sok_1003"
   ]
  },
  {
   "cell_type": "code",
   "execution_count": 2,
   "id": "3a83d327-b183-464c-ab7a-5edb7635aa60",
   "metadata": {},
   "outputs": [],
   "source": [
    "#Bibklotek\n",
    "\n",
    "import pandas as pd\n",
    "import numpy as np\n",
    "import matplotlib.pyplot as plt\n",
    "\n",
    "import sympy as sp\n",
    "from sympy.solvers import solve\n",
    "x,y = sp.symbols('x y')"
   ]
  },
  {
   "cell_type": "markdown",
   "id": "bd3ffd5a-dd3a-4add-bd16-7e753610d36e",
   "metadata": {},
   "source": [
    "Modul 15"
   ]
  },
  {
   "cell_type": "code",
   "execution_count": 10,
   "id": "35ee3203-4209-4e13-980f-426dd61ae5b6",
   "metadata": {},
   "outputs": [
    {
     "data": {
      "text/plain": [
       "{x: -1, y: 2}"
      ]
     },
     "execution_count": 10,
     "metadata": {},
     "output_type": "execute_result"
    }
   ],
   "source": [
    "#Oppgave 1a\n",
    "\n",
    "eq1 = sp.Eq(2*x + 4*y, 6)\n",
    "eq1\n",
    "\n",
    "\n",
    "eq2 = sp.Eq (-2*x + y, 4)\n",
    "eq2\n",
    "\n",
    "sol = solve([eq1,eq2], [x,y])\n",
    "sol"
   ]
  },
  {
   "cell_type": "code",
   "execution_count": 19,
   "id": "f1ab5f9e-f0e5-44f4-9743-c2a69b32f571",
   "metadata": {},
   "outputs": [
    {
     "data": {
      "text/plain": [
       "[(-1, -1), (2, 5)]"
      ]
     },
     "execution_count": 19,
     "metadata": {},
     "output_type": "execute_result"
    }
   ],
   "source": [
    "#Oppgave 1b\n",
    "\n",
    "eq3 = sp.Eq(2*x - y, -1)\n",
    "\n",
    "eq4 = sp.Eq(x**2+x - y , 1)\n",
    "\n",
    "sol = solve ([eq3,eq4], [x,y])\n",
    "sol"
   ]
  },
  {
   "cell_type": "markdown",
   "id": "a2389a46-6a65-4e94-a43c-59e6a12079c9",
   "metadata": {},
   "source": [
    "x1 = -1 x2 = 2, y1= -1, y2 = 5 "
   ]
  },
  {
   "cell_type": "code",
   "execution_count": 3,
   "id": "52b96401-fdb7-4452-8098-5868111184fb",
   "metadata": {},
   "outputs": [
    {
     "data": {
      "text/plain": [
       "{x: 4, y: 0}"
      ]
     },
     "execution_count": 3,
     "metadata": {},
     "output_type": "execute_result"
    }
   ],
   "source": [
    "#Oppgave 2a\n",
    "\n",
    "eq5 = sp.Eq(3*x - 12, -6*y)\n",
    "eq5\n",
    "\n",
    "eq6= sp.Eq(4*x - 8*y, 16)\n",
    "eq6\n",
    "\n",
    "sol= solve ([eq5, eq6], [x,y])\n",
    "sol"
   ]
  },
  {
   "cell_type": "code",
   "execution_count": 5,
   "id": "df76ea79-41fc-4c26-ad07-c2ddb4b5e9dc",
   "metadata": {},
   "outputs": [
    {
     "data": {
      "text/plain": [
       "[(-15/2, 31/4), (2, 3)]"
      ]
     },
     "execution_count": 5,
     "metadata": {},
     "output_type": "execute_result"
    }
   ],
   "source": [
    "#Oppgave 2b\n",
    "\n",
    "eq7 = sp.Eq (x**2 + 4*x - 3, 3*y)\n",
    "eq7\n",
    "\n",
    "eq8= sp.Eq(2*y, 8 - x)\n",
    "eq8\n",
    "\n",
    "sol= solve ([eq7,eq8], [x,y])\n",
    "sol"
   ]
  },
  {
   "cell_type": "markdown",
   "id": "b9336bce-10c4-4599-ad1e-f14f44737423",
   "metadata": {},
   "source": [
    "x1= 4, x2= -15/2, y1= 0, y2 = 31/4"
   ]
  },
  {
   "cell_type": "markdown",
   "id": "25bcb970-7930-4d06-9012-d0c6244078b9",
   "metadata": {},
   "source": [
    "## Modul 16"
   ]
  },
  {
   "cell_type": "code",
   "execution_count": 6,
   "id": "107e947f-66d6-48a9-b5f4-dad16ade7aa1",
   "metadata": {},
   "outputs": [
    {
     "data": {
      "text/plain": [
       "{x: 2, y: 2}"
      ]
     },
     "execution_count": 6,
     "metadata": {},
     "output_type": "execute_result"
    }
   ],
   "source": [
    "# Oppgave 1a\n",
    "\n",
    "eq9 = sp.Eq (4*x + 2*y, 12)\n",
    "eq9\n",
    "\n",
    "eq10 = sp.Eq (6*x - 2*y, 8)\n",
    "eq10\n",
    "\n",
    "sol=solve ([eq9, eq10], [x,y])\n",
    "sol"
   ]
  },
  {
   "cell_type": "code",
   "execution_count": 7,
   "id": "5eceb2c9-ea89-4d5b-a1d8-3b4166000232",
   "metadata": {},
   "outputs": [
    {
     "data": {
      "text/plain": [
       "[(0, -5), (12, 1)]"
      ]
     },
     "execution_count": 7,
     "metadata": {},
     "output_type": "execute_result"
    }
   ],
   "source": [
    "# Oppgave 1b\n",
    "\n",
    "eq11 = sp.Eq (2*x + y**2, 25)\n",
    "eq11\n",
    "\n",
    "eq12 = sp.Eq (x-2*y, 10)\n",
    "eq12\n",
    "\n",
    "sol= solve ([eq11, eq12], [x,y])\n",
    "sol"
   ]
  },
  {
   "cell_type": "markdown",
   "id": "a9fede34-7a49-4fa9-88f2-cfb1c3a310fa",
   "metadata": {},
   "source": [
    "x1= 0, y1= -5. x2= 12, y2= 1"
   ]
  },
  {
   "cell_type": "code",
   "execution_count": 9,
   "id": "595636c0-b7be-4823-97a5-157975aefdb6",
   "metadata": {},
   "outputs": [
    {
     "data": {
      "text/plain": [
       "{x: 4, y: 2}"
      ]
     },
     "execution_count": 9,
     "metadata": {},
     "output_type": "execute_result"
    }
   ],
   "source": [
    "#Oppgave 2a\n",
    "\n",
    "eq13 = sp.Eq (4*x - 4*y, 8)\n",
    "eq13\n",
    "\n",
    "eq14 = sp.Eq (9*x - 5*y, 26)\n",
    "eq14\n",
    "\n",
    "sol = solve ([eq13,eq14], [x,y])\n",
    "sol"
   ]
  },
  {
   "cell_type": "code",
   "execution_count": 10,
   "id": "a3c31744-bbe8-4e6f-acfd-38c5a9623ddd",
   "metadata": {},
   "outputs": [
    {
     "data": {
      "text/plain": [
       "[(-9, -2*sqrt(3)), (-9, 2*sqrt(3)), (7, -2), (7, 2)]"
      ]
     },
     "execution_count": 10,
     "metadata": {},
     "output_type": "execute_result"
    }
   ],
   "source": [
    "#Oppgave 2b\n",
    "eq15 = sp.Eq(x + 2*y**2 , 15)\n",
    "eq15\n",
    "\n",
    "eq16 = sp.Eq(x**2 - 4*y**2 , 33)\n",
    "eq16\n",
    "\n",
    "sol=solve([eq15,eq16], [x,y])\n",
    "sol\n"
   ]
  },
  {
   "cell_type": "markdown",
   "id": "ea720dc5-d76d-4ba9-82ec-9210f1d92d7f",
   "metadata": {},
   "source": [
    "4 Forskjellige løsninger. sqrt står for kvadratrot"
   ]
  },
  {
   "cell_type": "markdown",
   "id": "4d6e75ba-8434-44ca-a0b8-e6a7e209337e",
   "metadata": {},
   "source": [
    "## Modul 17"
   ]
  },
  {
   "cell_type": "code",
   "execution_count": 11,
   "id": "b0214b51-3ee1-439d-87c2-fcc134e14931",
   "metadata": {},
   "outputs": [],
   "source": [
    "#Oppgave 1a\n",
    "\n",
    "eq17 = sp.Eq(x*y**2 - x , 0)\n",
    "eq17\n",
    "\n",
    "eq18 = sp.Eq(x + y**2, 16)\n",
    "eq18\n",
    "\n",
    "sol=solve([eq17,eq18], [x,y])\n",
    "sol"
   ]
  },
  {
   "cell_type": "markdown",
   "id": "3a99c845-56c0-413f-8dcf-f3bbc579a82d",
   "metadata": {},
   "source": [
    "Frammover er det så mange løsningsforslag at jeg ikke marker x1,x2,x3 etc."
   ]
  },
  {
   "cell_type": "code",
   "execution_count": 12,
   "id": "a9aa22fe-f3d7-4685-8271-6172a3816af0",
   "metadata": {},
   "outputs": [
    {
     "data": {
      "text/plain": [
       "[(-10, 0), (-6, -8), (-6, 8), (6, -8), (6, 8), (10, 0)]"
      ]
     },
     "execution_count": 12,
     "metadata": {},
     "output_type": "execute_result"
    }
   ],
   "source": [
    "#Oppgave 1b\n",
    "eq19 = sp.Eq(x**2 + y**2 , 100)\n",
    "eq19\n",
    "\n",
    "eq20 = sp.Eq(x**2*y - 36*y , 0)\n",
    "eq20\n",
    "\n",
    "sol=solve([eq19,eq20], [x,y])\n",
    "sol"
   ]
  },
  {
   "cell_type": "code",
   "execution_count": 15,
   "id": "9a94747e-d7ef-4a40-a6a7-9b8f53d2b217",
   "metadata": {},
   "outputs": [
    {
     "data": {
      "text/plain": [
       "[(-3, -7), (-3, 7), (0, -sqrt(58)), (0, sqrt(58)), (3, -7), (3, 7)]"
      ]
     },
     "execution_count": 15,
     "metadata": {},
     "output_type": "execute_result"
    }
   ],
   "source": [
    "#Oppgave 2a\n",
    "eq21 = sp.Eq(x*y**2 - 49*x , 0)\n",
    "eq21\n",
    "\n",
    "eq22= sp.Eq(x**2 + y**2 , 58)\n",
    "eq22\n",
    "\n",
    "sol=solve([eq21,eq22], [x,y])\n",
    "sol\n"
   ]
  },
  {
   "cell_type": "code",
   "execution_count": 17,
   "id": "9c16ce87-ce46-4ba1-a307-d4715887c898",
   "metadata": {},
   "outputs": [
    {
     "data": {
      "text/plain": [
       "[(-1.11803398874989, 0.0),\n",
       " (-0.500000000000000, -1.00000000000000),\n",
       " (-0.500000000000000, 1.00000000000000),\n",
       " (1.11803398874989, 0.0)]"
      ]
     },
     "execution_count": 17,
     "metadata": {},
     "output_type": "execute_result"
    }
   ],
   "source": [
    "#Oppgave 2b\n",
    "eq23 = sp.Eq(x**2 + y**2 , 5/4)\n",
    "eq23\n",
    "\n",
    "eq24= sp.Eq(2*x*y + y , 0)\n",
    "eq24\n",
    "\n",
    "sol=solve([eq23,eq24], [x,y])\n",
    "sol"
   ]
  },
  {
   "cell_type": "markdown",
   "id": "ef5c7e0a-82b5-485b-89a6-4b60aa797a4a",
   "metadata": {},
   "source": [
    "## Modul 19"
   ]
  },
  {
   "cell_type": "code",
   "execution_count": 18,
   "id": "994b2b95-a173-47c7-a861-c0323dc6c6d0",
   "metadata": {},
   "outputs": [
    {
     "data": {
      "text/latex": [
       "$\\displaystyle 5 x^{4}$"
      ],
      "text/plain": [
       "5*x**4"
      ]
     },
     "execution_count": 18,
     "metadata": {},
     "output_type": "execute_result"
    }
   ],
   "source": [
    "#Oppgave 1a\n",
    "\n",
    "x = sp.Symbol('x')\n",
    "sp.diff(x**5)\n"
   ]
  },
  {
   "cell_type": "code",
   "execution_count": 19,
   "id": "ae17c51c-f18f-4693-9e0c-c715a3651a67",
   "metadata": {},
   "outputs": [
    {
     "data": {
      "text/latex": [
       "$\\displaystyle 1$"
      ],
      "text/plain": [
       "1"
      ]
     },
     "execution_count": 19,
     "metadata": {},
     "output_type": "execute_result"
    }
   ],
   "source": [
    "#Oppgave 1b\n",
    "\n",
    "x = sp.Symbol('x')\n",
    "sp.diff(x + 12)\n"
   ]
  },
  {
   "cell_type": "code",
   "execution_count": 20,
   "id": "fdc41fd7-5c51-4d8c-b1e2-a6fbfd87177a",
   "metadata": {},
   "outputs": [
    {
     "data": {
      "text/latex": [
       "$\\displaystyle 3 x^{2} + 8 x$"
      ],
      "text/plain": [
       "3*x**2 + 8*x"
      ]
     },
     "execution_count": 20,
     "metadata": {},
     "output_type": "execute_result"
    }
   ],
   "source": [
    "#Oppgave 1c\n",
    "\n",
    "x = sp.Symbol('x')\n",
    "sp.diff(x**3 + 4*x**2)"
   ]
  },
  {
   "cell_type": "code",
   "execution_count": 21,
   "id": "a24526ed-831b-4d61-b944-79900368eaca",
   "metadata": {},
   "outputs": [
    {
     "data": {
      "text/latex": [
       "$\\displaystyle 6 x^{2}$"
      ],
      "text/plain": [
       "6*x**2"
      ]
     },
     "execution_count": 21,
     "metadata": {},
     "output_type": "execute_result"
    }
   ],
   "source": [
    "#Oppgave 1d\n",
    "\n",
    "x = sp.Symbol('x')\n",
    "sp.diff(2*x**3 + 36**(1/2))"
   ]
  },
  {
   "cell_type": "code",
   "execution_count": 22,
   "id": "19fb856f-2d9b-4136-b62e-e5dfb70c6f69",
   "metadata": {},
   "outputs": [
    {
     "data": {
      "text/latex": [
       "$\\displaystyle \\frac{0.5}{x^{0.5}}$"
      ],
      "text/plain": [
       "0.5*x**(-0.5)"
      ]
     },
     "execution_count": 22,
     "metadata": {},
     "output_type": "execute_result"
    }
   ],
   "source": [
    "#Oppgave 1e\n",
    "\n",
    "x = sp.Symbol('x')\n",
    "sp.diff(x**(1/2) + 5**2)"
   ]
  },
  {
   "cell_type": "code",
   "execution_count": 23,
   "id": "bd281032-43f3-451d-9a30-b382f253cdd1",
   "metadata": {},
   "outputs": [
    {
     "data": {
      "text/latex": [
       "$\\displaystyle 3 x^{2} - \\frac{1}{x^{2}}$"
      ],
      "text/plain": [
       "3*x**2 - 1/x**2"
      ]
     },
     "execution_count": 23,
     "metadata": {},
     "output_type": "execute_result"
    }
   ],
   "source": [
    "#Oppgave 1f\n",
    "\n",
    "x = sp.Symbol('x')\n",
    "sp.diff(x**3 + 1/x)"
   ]
  },
  {
   "cell_type": "code",
   "execution_count": 24,
   "id": "8dc624be-2db0-4353-9236-e4599fda4aff",
   "metadata": {},
   "outputs": [
    {
     "data": {
      "text/latex": [
       "$\\displaystyle 3 x^{2} - 2 x + 0.25$"
      ],
      "text/plain": [
       "3*x**2 - 2*x + 0.25"
      ]
     },
     "execution_count": 24,
     "metadata": {},
     "output_type": "execute_result"
    }
   ],
   "source": [
    "#Oppgave 1g\n",
    "\n",
    "x = sp.Symbol('x')\n",
    "sp.diff(x**3 - x**2 + 1/4*x)"
   ]
  },
  {
   "cell_type": "code",
   "execution_count": 25,
   "id": "33044b86-9041-42f8-b966-e6ed7cac0079",
   "metadata": {},
   "outputs": [
    {
     "data": {
      "text/latex": [
       "$\\displaystyle 36 x^{5} - \\frac{1}{x^{2}}$"
      ],
      "text/plain": [
       "36*x**5 - 1/x**2"
      ]
     },
     "execution_count": 25,
     "metadata": {},
     "output_type": "execute_result"
    }
   ],
   "source": [
    "#Oppgave 2a\n",
    "\n",
    "x = sp.Symbol('x')\n",
    "sp.diff(1/x + 6*x**6)"
   ]
  },
  {
   "cell_type": "code",
   "execution_count": 26,
   "id": "f8df6e24-204d-4671-b01d-482095add0a8",
   "metadata": {},
   "outputs": [
    {
     "data": {
      "text/latex": [
       "$\\displaystyle 1.5 x^{2} - 1$"
      ],
      "text/plain": [
       "1.5*x**2 - 1"
      ]
     },
     "execution_count": 26,
     "metadata": {},
     "output_type": "execute_result"
    }
   ],
   "source": [
    "#Oppgave 2b\n",
    "\n",
    "x = sp.Symbol('x')\n",
    "sp.diff(-x + 1/2*x**3)\n"
   ]
  },
  {
   "cell_type": "code",
   "execution_count": 27,
   "id": "47c98780-f62a-48bd-b325-aebd8453b52e",
   "metadata": {},
   "outputs": [
    {
     "data": {
      "text/latex": [
       "$\\displaystyle x^{2} + x \\left(2 x + 2\\right) + 2 x - 3$"
      ],
      "text/plain": [
       "x**2 + x*(2*x + 2) + 2*x - 3"
      ]
     },
     "execution_count": 27,
     "metadata": {},
     "output_type": "execute_result"
    }
   ],
   "source": [
    "#Oppgave 2c\n",
    "\n",
    "x = sp.Symbol('x')\n",
    "sp.diff(x*(x**2 + 2*x - 3))"
   ]
  },
  {
   "cell_type": "markdown",
   "id": "143b9fb9-4a20-4a0e-83e9-24423213ec29",
   "metadata": {},
   "source": [
    "## Modul 20"
   ]
  },
  {
   "cell_type": "code",
   "execution_count": 28,
   "id": "b3dcdf55-431e-4e27-a427-062e4927aec6",
   "metadata": {},
   "outputs": [
    {
     "data": {
      "text/latex": [
       "$\\displaystyle 9 x^{8}$"
      ],
      "text/plain": [
       "9*x**8"
      ]
     },
     "execution_count": 28,
     "metadata": {},
     "output_type": "execute_result"
    }
   ],
   "source": [
    "#Oppgave 1e\n",
    "\n",
    "x = sp.Symbol('x')\n",
    "sp.diff(x**4 * x**5)\n"
   ]
  },
  {
   "cell_type": "code",
   "execution_count": 29,
   "id": "14e6deff-ab45-4949-b69f-b214f75cffb2",
   "metadata": {},
   "outputs": [
    {
     "data": {
      "text/latex": [
       "$\\displaystyle \\frac{3 \\sqrt{x}}{2}$"
      ],
      "text/plain": [
       "3*sqrt(x)/2"
      ]
     },
     "execution_count": 29,
     "metadata": {},
     "output_type": "execute_result"
    }
   ],
   "source": [
    "#Oppgave 1f\n",
    "\n",
    "x = sp.Symbol('x')\n",
    "sp.diff(x * sp.sqrt(x))"
   ]
  },
  {
   "cell_type": "code",
   "execution_count": 30,
   "id": "1b766d0d-1404-41a9-a76f-81c49404cca3",
   "metadata": {},
   "outputs": [
    {
     "data": {
      "text/latex": [
       "$\\displaystyle \\frac{2}{x^{2}} - \\frac{3 \\left(x^{2} - 2\\right)}{x^{4}}$"
      ],
      "text/plain": [
       "2/x**2 - 3*(x**2 - 2)/x**4"
      ]
     },
     "execution_count": 30,
     "metadata": {},
     "output_type": "execute_result"
    }
   ],
   "source": [
    " #Oppgave 1h\n",
    "    \n",
    "x = sp.Symbol('x')\n",
    "sp.diff((x**2 - 2)/x**3)\n"
   ]
  },
  {
   "cell_type": "code",
   "execution_count": 31,
   "id": "21290954-869d-4607-9030-32e3377c2d90",
   "metadata": {},
   "outputs": [
    {
     "data": {
      "text/latex": [
       "$\\displaystyle \\frac{13 x^{\\frac{11}{2}}}{2}$"
      ],
      "text/plain": [
       "13*x**(11/2)/2"
      ]
     },
     "execution_count": 31,
     "metadata": {},
     "output_type": "execute_result"
    }
   ],
   "source": [
    " #Oppgave 1i\n",
    "    \n",
    "x = sp.Symbol('x')\n",
    "sp.diff(sp.sqrt(x)*x**6)"
   ]
  },
  {
   "cell_type": "code",
   "execution_count": 32,
   "id": "b80ca9b1-9cb1-4c9d-a488-43b1428364a8",
   "metadata": {},
   "outputs": [
    {
     "data": {
      "text/latex": [
       "$\\displaystyle 3 x^{2} + 1$"
      ],
      "text/plain": [
       "3*x**2 + 1"
      ]
     },
     "execution_count": 32,
     "metadata": {},
     "output_type": "execute_result"
    }
   ],
   "source": [
    "#Oppgave1 j\n",
    "\n",
    "x = sp.Symbol('x')\n",
    "sp.diff(x*(x**2 + 1))"
   ]
  },
  {
   "cell_type": "code",
   "execution_count": 33,
   "id": "1f8c0a1e-6055-40e0-bed7-030c6709a0de",
   "metadata": {},
   "outputs": [
    {
     "data": {
      "text/latex": [
       "$\\displaystyle - \\frac{3 x^{2} \\left(x^{2} + 4\\right)}{\\left(x^{3} - 1\\right)^{2}} + \\frac{2 x}{x^{3} - 1}$"
      ],
      "text/plain": [
       "-3*x**2*(x**2 + 4)/(x**3 - 1)**2 + 2*x/(x**3 - 1)"
      ]
     },
     "execution_count": 33,
     "metadata": {},
     "output_type": "execute_result"
    }
   ],
   "source": [
    "#Oppgave1 k\n",
    "\n",
    "x = sp.Symbol('x')\n",
    "sp.diff((x**2 + 4)/(x**3 - 1))"
   ]
  },
  {
   "cell_type": "code",
   "execution_count": 34,
   "id": "8fc8e9c6-a22d-4ae7-9fa8-83f3ac1de0ed",
   "metadata": {},
   "outputs": [
    {
     "data": {
      "text/latex": [
       "$\\displaystyle \\frac{x^{2} \\left(- 2 x - 2\\right)}{\\left(x^{2} + 2 x\\right)^{2}} + \\frac{2 x}{x^{2} + 2 x}$"
      ],
      "text/plain": [
       "x**2*(-2*x - 2)/(x**2 + 2*x)**2 + 2*x/(x**2 + 2*x)"
      ]
     },
     "execution_count": 34,
     "metadata": {},
     "output_type": "execute_result"
    }
   ],
   "source": [
    "#Oppgave 1 l\n",
    "\n",
    "x = sp.Symbol('x')\n",
    "sp.diff(x**2/(x**2 + 2*x))\n"
   ]
  },
  {
   "cell_type": "code",
   "execution_count": 35,
   "id": "a680a36e-3a96-4449-8766-1e3627d0b61a",
   "metadata": {},
   "outputs": [
    {
     "data": {
      "text/latex": [
       "$\\displaystyle \\frac{2 x + 4}{x - 2} - \\frac{x^{2} + 4 x + 2}{\\left(x - 2\\right)^{2}}$"
      ],
      "text/plain": [
       "(2*x + 4)/(x - 2) - (x**2 + 4*x + 2)/(x - 2)**2"
      ]
     },
     "execution_count": 35,
     "metadata": {},
     "output_type": "execute_result"
    }
   ],
   "source": [
    "#Oppgave 1 m\n",
    "\n",
    "x = sp.Symbol('x')\n",
    "sp.diff((x**2 + 4*x + 2)/(x - 2))\n"
   ]
  },
  {
   "cell_type": "code",
   "execution_count": 36,
   "id": "6e1d4b6e-8da9-46b0-adaf-8c3af0884bf8",
   "metadata": {},
   "outputs": [
    {
     "data": {
      "text/latex": [
       "$\\displaystyle - \\frac{2 x \\left(x^{3} - 2 x\\right)}{\\left(x^{2} - 1\\right)^{2}} + \\frac{3 x^{2} - 2}{x^{2} - 1}$"
      ],
      "text/plain": [
       "-2*x*(x**3 - 2*x)/(x**2 - 1)**2 + (3*x**2 - 2)/(x**2 - 1)"
      ]
     },
     "execution_count": 36,
     "metadata": {},
     "output_type": "execute_result"
    }
   ],
   "source": [
    "#Oppgave 2a\n",
    "\n",
    "x = sp.Symbol('x')\n",
    "sp.diff((x**3 - 2*x)/(x**2 - 1))"
   ]
  },
  {
   "cell_type": "code",
   "execution_count": 37,
   "id": "31babb76-d8fa-4a7d-adf2-239be26cfb34",
   "metadata": {},
   "outputs": [
    {
     "data": {
      "text/latex": [
       "$\\displaystyle 2 x \\left(x^{2} - 1\\right) + 2 x \\left(x^{2} + 1\\right)$"
      ],
      "text/plain": [
       "2*x*(x**2 - 1) + 2*x*(x**2 + 1)"
      ]
     },
     "execution_count": 37,
     "metadata": {},
     "output_type": "execute_result"
    }
   ],
   "source": [
    "#Oppgave 2b\n",
    "\n",
    "x = sp.Symbol('x')\n",
    "sp.diff((x**2 + 1)*(x**2 - 1))"
   ]
  },
  {
   "cell_type": "code",
   "execution_count": 38,
   "id": "30196809-f2b2-4452-8d3d-74da4586759a",
   "metadata": {},
   "outputs": [
    {
     "data": {
      "text/latex": [
       "$\\displaystyle - \\frac{3 x^{2} \\left(3 x - 4\\right)}{\\left(x^{3} + 7\\right)^{2}} + \\frac{3}{x^{3} + 7}$"
      ],
      "text/plain": [
       "-3*x**2*(3*x - 4)/(x**3 + 7)**2 + 3/(x**3 + 7)"
      ]
     },
     "execution_count": 38,
     "metadata": {},
     "output_type": "execute_result"
    }
   ],
   "source": [
    " #Oppgave 2c\n",
    "    \n",
    "x = sp.Symbol('x')\n",
    "sp.diff((3*x - 4)/(x**3 + 7))"
   ]
  },
  {
   "cell_type": "markdown",
   "id": "d02e2163-5b72-49e2-ab47-4c1668b45bbb",
   "metadata": {},
   "source": [
    "## Modul 21"
   ]
  },
  {
   "cell_type": "code",
   "execution_count": 40,
   "id": "084f29dd-74f9-4df8-a26c-152d4a246ed2",
   "metadata": {},
   "outputs": [
    {
     "data": {
      "text/latex": [
       "$\\displaystyle \\left(15 x^{2} + 30\\right) \\left(x^{3} + 6 x\\right)^{4}$"
      ],
      "text/plain": [
       "(15*x**2 + 30)*(x**3 + 6*x)**4"
      ]
     },
     "execution_count": 40,
     "metadata": {},
     "output_type": "execute_result"
    }
   ],
   "source": [
    "#Oppgave 1a\n",
    "\n",
    "x = sp.Symbol('x')\n",
    "sp.diff((x**3 + 6*x)**5)\n"
   ]
  },
  {
   "cell_type": "code",
   "execution_count": 41,
   "id": "68e0be7f-7910-4018-a806-b09ae148e003",
   "metadata": {},
   "outputs": [
    {
     "data": {
      "text/latex": [
       "$\\displaystyle \\frac{2 x}{\\sqrt{2 x^{2} + 5}}$"
      ],
      "text/plain": [
       "2*x/sqrt(2*x**2 + 5)"
      ]
     },
     "execution_count": 41,
     "metadata": {},
     "output_type": "execute_result"
    }
   ],
   "source": [
    "#Oppgave 1b\n",
    "\n",
    "x = sp.Symbol('x')\n",
    "sp.diff(sp.sqrt(2*x**2 + 5))\n"
   ]
  },
  {
   "cell_type": "code",
   "execution_count": 42,
   "id": "1e8fc640-2b85-4af7-ae82-3d50b32d66f6",
   "metadata": {},
   "outputs": [
    {
     "data": {
      "text/latex": [
       "$\\displaystyle - \\frac{128 x^{5}}{\\left(x^{2} + 3\\right)^{5}} + \\frac{64 x^{3}}{\\left(x^{2} + 3\\right)^{4}}$"
      ],
      "text/plain": [
       "-128*x**5/(x**2 + 3)**5 + 64*x**3/(x**2 + 3)**4"
      ]
     },
     "execution_count": 42,
     "metadata": {},
     "output_type": "execute_result"
    }
   ],
   "source": [
    "#Oppgave 1c\n",
    "\n",
    "x = sp.Symbol('x')\n",
    "sp.diff((2*x/(x**2+3))**4)"
   ]
  },
  {
   "cell_type": "code",
   "execution_count": 43,
   "id": "fcf00345-13fb-4148-9b14-e969d9e38763",
   "metadata": {},
   "outputs": [
    {
     "data": {
      "text/latex": [
       "$\\displaystyle 12 x^{3} \\left(2 x^{4} + 9\\right)^{2}$"
      ],
      "text/plain": [
       "12*x**3*(2*x**4 + 9)**2"
      ]
     },
     "execution_count": 43,
     "metadata": {},
     "output_type": "execute_result"
    }
   ],
   "source": [
    "#Oppgave 1d\n",
    "\n",
    "x = sp.Symbol('x')\n",
    "sp.diff((2*x**4 + 9)**3/2)\n"
   ]
  },
  {
   "cell_type": "code",
   "execution_count": 44,
   "id": "7d0f63cf-4cb3-489d-934b-aa8dc5c8fd0f",
   "metadata": {},
   "outputs": [
    {
     "data": {
      "text/latex": [
       "$\\displaystyle - \\frac{x}{\\left(x^{2} + 1\\right)^{\\frac{3}{2}}}$"
      ],
      "text/plain": [
       "-x/(x**2 + 1)**(3/2)"
      ]
     },
     "execution_count": 44,
     "metadata": {},
     "output_type": "execute_result"
    }
   ],
   "source": [
    " #Oppgave 1e\n",
    "    \n",
    "x = sp.Symbol('x')\n",
    "sp.diff(1/(sp.sqrt(1 + x**2)))"
   ]
  },
  {
   "cell_type": "code",
   "execution_count": 45,
   "id": "6ecd5836-07a7-4b85-b527-fd8befe30205",
   "metadata": {},
   "outputs": [
    {
     "data": {
      "text/latex": [
       "$\\displaystyle x^{2} \\left(6 x + 6\\right) \\left(x^{2} + 2 x\\right)^{2} + 2 x \\left(x^{2} + 2 x\\right)^{3}$"
      ],
      "text/plain": [
       "x**2*(6*x + 6)*(x**2 + 2*x)**2 + 2*x*(x**2 + 2*x)**3"
      ]
     },
     "execution_count": 45,
     "metadata": {},
     "output_type": "execute_result"
    }
   ],
   "source": [
    "#Oppgave 1f\n",
    "\n",
    "x = sp.Symbol('x')\n",
    "sp.diff(x**2 *(x**2 + 2*x)**3)"
   ]
  },
  {
   "cell_type": "code",
   "execution_count": 46,
   "id": "18ebd0d6-e9aa-4f86-8013-ae8a1e71e05d",
   "metadata": {},
   "outputs": [
    {
     "data": {
      "text/latex": [
       "$\\displaystyle \\frac{x^{2} \\left(x - 1\\right)}{\\sqrt{x^{2} - 2 x}} + 2 x \\sqrt{x^{2} - 2 x}$"
      ],
      "text/plain": [
       "x**2*(x - 1)/sqrt(x**2 - 2*x) + 2*x*sqrt(x**2 - 2*x)"
      ]
     },
     "execution_count": 46,
     "metadata": {},
     "output_type": "execute_result"
    }
   ],
   "source": [
    "#Oppgave 1g\n",
    "\n",
    "x = sp.Symbol('x')\n",
    "sp.diff(x**2 *(sp.sqrt(x**2 - 2*x)))"
   ]
  },
  {
   "cell_type": "code",
   "execution_count": 47,
   "id": "53cfe0e7-0e2f-4f52-a660-9a8bdbb0a227",
   "metadata": {},
   "outputs": [
    {
     "data": {
      "text/latex": [
       "$\\displaystyle \\frac{x^{2} \\left(- 6 x - 3\\right)}{\\left(x^{2} + x\\right)^{4}} + \\frac{2 x}{\\left(x^{2} + x\\right)^{3}}$"
      ],
      "text/plain": [
       "x**2*(-6*x - 3)/(x**2 + x)**4 + 2*x/(x**2 + x)**3"
      ]
     },
     "execution_count": 47,
     "metadata": {},
     "output_type": "execute_result"
    }
   ],
   "source": [
    "#Oppgave 1h\n",
    "\n",
    "x = sp.Symbol('x')\n",
    "sp.diff(x**2/(x**2 + x)**3)\n"
   ]
  },
  {
   "cell_type": "code",
   "execution_count": 48,
   "id": "f4bddf97-bae0-49de-8234-fcc051036dee",
   "metadata": {},
   "outputs": [
    {
     "data": {
      "text/latex": [
       "$\\displaystyle 9 x^{2} \\left(x^{2} + 1\\right)^{2} \\left(x^{3} + 1\\right)^{2} + 4 x \\left(x^{2} + 1\\right) \\left(x^{3} + 1\\right)^{3}$"
      ],
      "text/plain": [
       "9*x**2*(x**2 + 1)**2*(x**3 + 1)**2 + 4*x*(x**2 + 1)*(x**3 + 1)**3"
      ]
     },
     "execution_count": 48,
     "metadata": {},
     "output_type": "execute_result"
    }
   ],
   "source": [
    "#Oppgave 1 i\n",
    "\n",
    "x = sp.Symbol('x')\n",
    "sp.diff((x**2 + 1)**2 * (x**3 + 1)**3)"
   ]
  },
  {
   "cell_type": "code",
   "execution_count": 49,
   "id": "f044aa1e-5294-4c15-97ad-a417fb76a006",
   "metadata": {},
   "outputs": [
    {
     "data": {
      "text/latex": [
       "$\\displaystyle \\left(12 x + 4\\right) \\left(3 x^{2} + 2 x\\right)$"
      ],
      "text/plain": [
       "(12*x + 4)*(3*x**2 + 2*x)"
      ]
     },
     "execution_count": 49,
     "metadata": {},
     "output_type": "execute_result"
    }
   ],
   "source": [
    "#Oppgave 2a\n",
    "\n",
    "x = sp.Symbol('x')\n",
    "sp.diff(sp.sqrt(3*x**2 + 2*x)**4)"
   ]
  },
  {
   "cell_type": "code",
   "execution_count": 50,
   "id": "92f805b3-9f42-4925-8e0b-67565998f20d",
   "metadata": {},
   "outputs": [
    {
     "data": {
      "text/latex": [
       "$\\displaystyle 15 x^{2} \\left(x^{2} + 3\\right)^{4} \\left(x^{3} + 3\\right)^{4} + 8 x \\left(x^{2} + 3\\right)^{3} \\left(x^{3} + 3\\right)^{5}$"
      ],
      "text/plain": [
       "15*x**2*(x**2 + 3)**4*(x**3 + 3)**4 + 8*x*(x**2 + 3)**3*(x**3 + 3)**5"
      ]
     },
     "execution_count": 50,
     "metadata": {},
     "output_type": "execute_result"
    }
   ],
   "source": [
    "#Oppgave 2b\n",
    "\n",
    "x = sp.Symbol('x')\n",
    "sp.diff((x**3+3)**5 * (x**2 + 3)**4)\n"
   ]
  },
  {
   "cell_type": "code",
   "execution_count": 51,
   "id": "76e0c3c2-0986-41ef-9615-eb419cb75928",
   "metadata": {},
   "outputs": [
    {
     "data": {
      "text/latex": [
       "$\\displaystyle \\frac{x^{3}}{\\sqrt{x^{2} + 1}} + 2 x \\sqrt{x^{2} + 1}$"
      ],
      "text/plain": [
       "x**3/sqrt(x**2 + 1) + 2*x*sqrt(x**2 + 1)"
      ]
     },
     "execution_count": 51,
     "metadata": {},
     "output_type": "execute_result"
    }
   ],
   "source": [
    "#Oppgave 2c\n",
    "\n",
    "x = sp.Symbol('x')\n",
    "sp.diff(sp.sqrt(x**2 + 1 )*( x**2))"
   ]
  },
  {
   "cell_type": "code",
   "execution_count": 52,
   "id": "64455e3f-bf12-46de-9e69-b20c5d4ef110",
   "metadata": {},
   "outputs": [
    {
     "data": {
      "text/latex": [
       "$\\displaystyle \\frac{\\left(18 x + 6\\right) \\left(3 x^{2} + 2 x\\right)^{2}}{x^{2}} - \\frac{2 \\left(3 x^{2} + 2 x\\right)^{3}}{x^{3}}$"
      ],
      "text/plain": [
       "(18*x + 6)*(3*x**2 + 2*x)**2/x**2 - 2*(3*x**2 + 2*x)**3/x**3"
      ]
     },
     "execution_count": 52,
     "metadata": {},
     "output_type": "execute_result"
    }
   ],
   "source": [
    "#Oppgave 2d\n",
    "\n",
    "x = sp.Symbol('x')\n",
    "sp.diff(((2*x + 3*x**2)**3)/x**2)"
   ]
  },
  {
   "cell_type": "code",
   "execution_count": 53,
   "id": "0ccefa18-a76f-46f4-8bb5-b0268271e305",
   "metadata": {},
   "outputs": [
    {
     "data": {
      "text/latex": [
       "$\\displaystyle \\frac{4 x^{3}}{3 \\left(x^{4} - 5\\right)^{\\frac{2}{3}}}$"
      ],
      "text/plain": [
       "4*x**3/(3*(x**4 - 5)**(2/3))"
      ]
     },
     "execution_count": 53,
     "metadata": {},
     "output_type": "execute_result"
    }
   ],
   "source": [
    "#Oppgave 2e\n",
    "\n",
    "x = sp.Symbol('x')\n",
    "sp.diff(sp.cbrt(x**4 - 5))\n"
   ]
  },
  {
   "cell_type": "code",
   "execution_count": 54,
   "id": "14922977-fa43-48a4-ba19-55f22c25c3f8",
   "metadata": {},
   "outputs": [
    {
     "data": {
      "text/latex": [
       "$\\displaystyle - \\frac{2 x^{6}}{\\left(x^{4} - 1\\right)^{\\frac{3}{2}}} + \\frac{3 x^{2}}{\\sqrt{x^{4} - 1}}$"
      ],
      "text/plain": [
       "-2*x**6/(x**4 - 1)**(3/2) + 3*x**2/sqrt(x**4 - 1)"
      ]
     },
     "execution_count": 54,
     "metadata": {},
     "output_type": "execute_result"
    }
   ],
   "source": [
    "#Oppgave 2f\n",
    "\n",
    "x = sp.Symbol('x')\n",
    "sp.diff(x**3/(sp.sqrt(x**4 - 1)))"
   ]
  },
  {
   "cell_type": "markdown",
   "id": "05cf1175-ad0b-4a8f-87a1-43245f60a3b3",
   "metadata": {},
   "source": [
    "## Modul 22"
   ]
  },
  {
   "cell_type": "code",
   "execution_count": 56,
   "id": "69c6ebf0-69f1-4110-a8c7-f0c7c8377c27",
   "metadata": {},
   "outputs": [
    {
     "data": {
      "text/latex": [
       "$\\displaystyle \\frac{1}{x}$"
      ],
      "text/plain": [
       "1/x"
      ]
     },
     "execution_count": 56,
     "metadata": {},
     "output_type": "execute_result"
    }
   ],
   "source": [
    "#Oppgave 1a\n",
    "\n",
    "x, y = sp.symbols('x y')\n",
    "ln = sp.ln\n",
    "e = sp.exp\n",
    "\n",
    "sp.diff(ln(5*x))\n"
   ]
  },
  {
   "cell_type": "code",
   "execution_count": 57,
   "id": "841d4218-dc66-4310-8618-169a9e735238",
   "metadata": {},
   "outputs": [
    {
     "data": {
      "text/latex": [
       "$\\displaystyle - 2 e^{- 2 x}$"
      ],
      "text/plain": [
       "-2*exp(-2*x)"
      ]
     },
     "execution_count": 57,
     "metadata": {},
     "output_type": "execute_result"
    }
   ],
   "source": [
    "#Oppgave 1b\n",
    "    \n",
    "sp.diff((e(-2*x)))"
   ]
  },
  {
   "cell_type": "code",
   "execution_count": 59,
   "id": "56646265-dbe4-4b43-81bd-38c0b6329c65",
   "metadata": {},
   "outputs": [
    {
     "data": {
      "text/latex": [
       "$\\displaystyle \\frac{1}{x}$"
      ],
      "text/plain": [
       "1/x"
      ]
     },
     "execution_count": 59,
     "metadata": {},
     "output_type": "execute_result"
    }
   ],
   "source": [
    "#Oppgave 1c\n",
    "\n",
    "sp.diff(ln((12*x))-3)"
   ]
  },
  {
   "cell_type": "code",
   "execution_count": 60,
   "id": "dab90519-4787-4fe0-a6aa-e4891436f802",
   "metadata": {},
   "outputs": [
    {
     "data": {
      "text/latex": [
       "$\\displaystyle 2^{x} \\log{\\left(2 \\right)}$"
      ],
      "text/plain": [
       "2**x*log(2)"
      ]
     },
     "execution_count": 60,
     "metadata": {},
     "output_type": "execute_result"
    }
   ],
   "source": [
    "#Oppgave 1d\n",
    "\n",
    "sp.diff(2**x)\n"
   ]
  },
  {
   "cell_type": "code",
   "execution_count": 61,
   "id": "38cecff8-b0de-4561-9954-7661beeb715b",
   "metadata": {},
   "outputs": [
    {
     "data": {
      "text/latex": [
       "$\\displaystyle 3 e^{3 x + 5}$"
      ],
      "text/plain": [
       "3*exp(3*x + 5)"
      ]
     },
     "execution_count": 61,
     "metadata": {},
     "output_type": "execute_result"
    }
   ],
   "source": [
    "#Oppgave 1e\n",
    "\n",
    "sp.diff(e(3*x+5))\n"
   ]
  },
  {
   "cell_type": "code",
   "execution_count": 62,
   "id": "54a58c6e-65f0-49f9-9558-7199b2cef261",
   "metadata": {},
   "outputs": [
    {
     "data": {
      "text/latex": [
       "$\\displaystyle \\frac{5 x^{4}}{x^{5} + 1}$"
      ],
      "text/plain": [
       "5*x**4/(x**5 + 1)"
      ]
     },
     "execution_count": 62,
     "metadata": {},
     "output_type": "execute_result"
    }
   ],
   "source": [
    "#Oppgave 1f\n",
    "\n",
    "sp.diff(ln(x**5 + 1))\n"
   ]
  },
  {
   "cell_type": "code",
   "execution_count": 63,
   "id": "f3a0949e-5003-4b20-9378-ab186fe092fc",
   "metadata": {},
   "outputs": [
    {
     "data": {
      "text/latex": [
       "$\\displaystyle \\left(8 x + 8\\right) e^{4 x^{2} + 8 x}$"
      ],
      "text/plain": [
       "(8*x + 8)*exp(4*x**2 + 8*x)"
      ]
     },
     "execution_count": 63,
     "metadata": {},
     "output_type": "execute_result"
    }
   ],
   "source": [
    "#Oppgave 1g\n",
    "\n",
    "sp.diff(e(4*x**2 + 8*x))\n"
   ]
  },
  {
   "cell_type": "code",
   "execution_count": 64,
   "id": "edfc50c8-5ee7-4152-b809-d504683d88dd",
   "metadata": {},
   "outputs": [
    {
     "data": {
      "text/latex": [
       "$\\displaystyle - \\frac{1}{x}$"
      ],
      "text/plain": [
       "-1/x"
      ]
     },
     "execution_count": 64,
     "metadata": {},
     "output_type": "execute_result"
    }
   ],
   "source": [
    "#Oppgave 1h\n",
    "\n",
    "sp.diff(ln(1/x))"
   ]
  },
  {
   "cell_type": "code",
   "execution_count": 65,
   "id": "6e7b7b9f-5f9d-4d65-bb1a-769abe3f93f3",
   "metadata": {},
   "outputs": [
    {
     "data": {
      "text/latex": [
       "$\\displaystyle 12 e^{4 x} + \\frac{6}{x}$"
      ],
      "text/plain": [
       "12*exp(4*x) + 6/x"
      ]
     },
     "execution_count": 65,
     "metadata": {},
     "output_type": "execute_result"
    }
   ],
   "source": [
    "#Oppgave 1 i\n",
    "\n",
    "sp.diff(6*ln(x) + 3*e(4*x))\n"
   ]
  },
  {
   "cell_type": "code",
   "execution_count": 66,
   "id": "929f4cf9-22a7-4708-acf8-1831505afa4c",
   "metadata": {},
   "outputs": [
    {
     "data": {
      "text/latex": [
       "$\\displaystyle - x e^{- x} + e^{- x}$"
      ],
      "text/plain": [
       "-x*exp(-x) + exp(-x)"
      ]
     },
     "execution_count": 66,
     "metadata": {},
     "output_type": "execute_result"
    }
   ],
   "source": [
    "#Oppgave 1j\n",
    "\n",
    "sp.diff(x * e(-x))\n"
   ]
  },
  {
   "cell_type": "code",
   "execution_count": 68,
   "id": "c03c2a97-0564-4a6e-9559-ec8074c080b0",
   "metadata": {},
   "outputs": [
    {
     "data": {
      "text/latex": [
       "$\\displaystyle \\frac{2 x^{3}}{x^{2} + 2} + 2 x \\log{\\left(x^{2} + 2 \\right)}$"
      ],
      "text/plain": [
       "2*x**3/(x**2 + 2) + 2*x*log(x**2 + 2)"
      ]
     },
     "execution_count": 68,
     "metadata": {},
     "output_type": "execute_result"
    }
   ],
   "source": [
    "#Oppgave 1k\n",
    "    \n",
    "sp.diff(x**2*ln(x**2 + 2))"
   ]
  },
  {
   "cell_type": "code",
   "execution_count": 69,
   "id": "3c934b6c-b80e-489d-bb1f-c8f2d03f7c19",
   "metadata": {},
   "outputs": [
    {
     "data": {
      "text/latex": [
       "$\\displaystyle 2 x^{3} e^{2 x} + 3 x^{2} e^{2 x}$"
      ],
      "text/plain": [
       "2*x**3*exp(2*x) + 3*x**2*exp(2*x)"
      ]
     },
     "execution_count": 69,
     "metadata": {},
     "output_type": "execute_result"
    }
   ],
   "source": [
    "#Oppgave 2a\n",
    "\n",
    "sp.diff(x**3 * e(2*x))"
   ]
  },
  {
   "cell_type": "code",
   "execution_count": 70,
   "id": "70499d92-03a7-41f6-91e2-a249480851e5",
   "metadata": {},
   "outputs": [
    {
     "data": {
      "text/latex": [
       "$\\displaystyle \\frac{\\left(x^{2} + 1\\right) \\left(- \\frac{2 x \\left(x^{2} - 1\\right)}{\\left(x^{2} + 1\\right)^{2}} + \\frac{2 x}{x^{2} + 1}\\right)}{x^{2} - 1}$"
      ],
      "text/plain": [
       "(x**2 + 1)*(-2*x*(x**2 - 1)/(x**2 + 1)**2 + 2*x/(x**2 + 1))/(x**2 - 1)"
      ]
     },
     "execution_count": 70,
     "metadata": {},
     "output_type": "execute_result"
    }
   ],
   "source": [
    "#Oppgave 2b\n",
    "\n",
    "sp.diff(ln((x**2 - 1)/(x**2 + 1)))"
   ]
  },
  {
   "cell_type": "code",
   "execution_count": 71,
   "id": "d42e890b-25f1-4cc7-b1d0-e677fdb333bb",
   "metadata": {},
   "outputs": [
    {
     "data": {
      "text/latex": [
       "$\\displaystyle \\frac{2 x^{3}}{x^{2} + 2} + 2 x \\log{\\left(x^{2} + 2 \\right)}$"
      ],
      "text/plain": [
       "2*x**3/(x**2 + 2) + 2*x*log(x**2 + 2)"
      ]
     },
     "execution_count": 71,
     "metadata": {},
     "output_type": "execute_result"
    }
   ],
   "source": [
    "#Oppgave 2c\n",
    "\n",
    "sp.diff(x**2 * ln((x**2 + 2)))"
   ]
  },
  {
   "cell_type": "code",
   "execution_count": 73,
   "id": "a5d84f66-4d3d-4c80-bb63-957749144deb",
   "metadata": {},
   "outputs": [
    {
     "data": {
      "text/latex": [
       "$\\displaystyle - \\frac{2 x e^{- x}}{\\left(x^{2} + 1\\right)^{2}} - \\frac{e^{- x}}{x^{2} + 1}$"
      ],
      "text/plain": [
       "-2*x*exp(-x)/(x**2 + 1)**2 - exp(-x)/(x**2 + 1)"
      ]
     },
     "execution_count": 73,
     "metadata": {},
     "output_type": "execute_result"
    }
   ],
   "source": [
    "#Oppgave 2d\n",
    "\n",
    "sp.diff(e(-x)/(x**2 + 1))"
   ]
  },
  {
   "cell_type": "markdown",
   "id": "ce3c44b6-238d-4d33-8e68-8b98166acce2",
   "metadata": {},
   "source": [
    "## fin."
   ]
  },
  {
   "cell_type": "code",
   "execution_count": null,
   "id": "d794967c-fae0-4d48-9525-e1578da982d9",
   "metadata": {},
   "outputs": [],
   "source": []
  }
 ],
 "metadata": {
  "kernelspec": {
   "display_name": "Python 3 (ipykernel)",
   "language": "python",
   "name": "python3"
  },
  "language_info": {
   "codemirror_mode": {
    "name": "ipython",
    "version": 3
   },
   "file_extension": ".py",
   "mimetype": "text/x-python",
   "name": "python",
   "nbconvert_exporter": "python",
   "pygments_lexer": "ipython3",
   "version": "3.9.5"
  }
 },
 "nbformat": 4,
 "nbformat_minor": 5
}
